{
 "cells": [
  {
   "cell_type": "markdown",
   "id": "e0a2d355",
   "metadata": {},
   "source": [
    "# 1."
   ]
  },
  {
   "cell_type": "code",
   "execution_count": 2,
   "id": "e1e4cffe",
   "metadata": {},
   "outputs": [
    {
     "name": "stdout",
     "output_type": "stream",
     "text": [
      "spam is a non-negative integer: 5\n"
     ]
    }
   ],
   "source": [
    "# Assert statement to check if the variable spam is a negative integer and raise an AssertionError if it is. \n",
    "\n",
    "# example:\n",
    "spam = 5  # Example variable\n",
    "\n",
    "# Assert that spam is not a negative integer\n",
    "assert spam >= 0, 'spam should be a non-negative integer'\n",
    "\n",
    "# If the assertion passes, this line will be executed\n",
    "print('spam is a non-negative integer:', spam)"
   ]
  },
  {
   "cell_type": "markdown",
   "id": "c1822ef9",
   "metadata": {},
   "source": [
    "# 2."
   ]
  },
  {
   "cell_type": "code",
   "execution_count": 7,
   "id": "a6b9998d",
   "metadata": {},
   "outputs": [
    {
     "name": "stdout",
     "output_type": "stream",
     "text": [
      "eggs and bacon are not the same (case insensitive): Hello yellow\n"
     ]
    }
   ],
   "source": [
    "# Assert statement that checks if the variables eggs and bacon contain strings that are the same, ignoring the case sensitivity.\n",
    "\n",
    "# example:\n",
    "eggs = 'Hello'  # Example variable 1\n",
    "bacon = 'yellow'  # Example variable 2\n",
    "\n",
    "# Assert that eggs and bacon are not the same strings, ignoring case\n",
    "assert eggs.lower() != bacon.lower(), 'eggs and bacon should not be the same (case insensitive)'\n",
    "\n",
    "# If the assertion passes, this line will be executed\n",
    "print('eggs and bacon are not the same (case insensitive):', eggs, bacon)"
   ]
  },
  {
   "cell_type": "markdown",
   "id": "bb95b811",
   "metadata": {},
   "source": [
    "# 3."
   ]
  },
  {
   "cell_type": "code",
   "execution_count": 10,
   "id": "eb7f0fda",
   "metadata": {},
   "outputs": [],
   "source": [
    "# command : assert False, 'This assert statement always triggers an AssertionError'"
   ]
  },
  {
   "cell_type": "markdown",
   "id": "77ac00de",
   "metadata": {},
   "source": [
    "# 4."
   ]
  },
  {
   "cell_type": "code",
   "execution_count": 11,
   "id": "20ed32d1",
   "metadata": {},
   "outputs": [],
   "source": [
    "# To use the logging.debug() function in Python, we need to have the following two lines present in your code:\n",
    "\n",
    "# Import the logging module:\n",
    "import logging\n",
    "\n",
    "#Configure the logging module:\n",
    "logging.basicConfig(level=logging.DEBUG, format='%(asctime)s - %(levelname)s - %(message)s')"
   ]
  },
  {
   "cell_type": "markdown",
   "id": "dd561c4c",
   "metadata": {},
   "source": [
    "# 5."
   ]
  },
  {
   "cell_type": "code",
   "execution_count": 12,
   "id": "1e951da2",
   "metadata": {},
   "outputs": [],
   "source": [
    "# To direct logging.debug() messages to a file named programLog.txt, we use the following two lines in your Python program:\n",
    "    \n",
    "import logging\n",
    "logging.basicConfig(filename='programLog.txt', level=logging.DEBUG, format='%(asctime)s - %(levelname)s - %(message)s')"
   ]
  },
  {
   "cell_type": "markdown",
   "id": "f82a6f66",
   "metadata": {},
   "source": [
    "# 6."
   ]
  },
  {
   "cell_type": "code",
   "execution_count": 13,
   "id": "3096480b",
   "metadata": {},
   "outputs": [],
   "source": [
    "# The five levels of logging in Python's logging module, in increasing order of severity, are:\n",
    "\n",
    "# DEBUG: Detailed information, typically used for debugging purposes.\n",
    "# INFO: Confirmation that things are working as expected.\n",
    "# WARNING: Indicates something unexpected happened or an issue that might need attention.\n",
    "# ERROR: Indicates a more serious problem occurred, but the program can still continue running.\n",
    "# CRITICAL: Indicates a critical error that may cause the program to crash or become unstable."
   ]
  },
  {
   "cell_type": "markdown",
   "id": "c3b1b855",
   "metadata": {},
   "source": [
    "# 7."
   ]
  },
  {
   "cell_type": "code",
   "execution_count": 14,
   "id": "a7eff263",
   "metadata": {},
   "outputs": [],
   "source": [
    "# Disable all logging messages in Python, with the following line of code:\n",
    "logging.disable(logging.CRITICAL)"
   ]
  },
  {
   "cell_type": "markdown",
   "id": "8bfcff70",
   "metadata": {},
   "source": [
    "# 8."
   ]
  },
  {
   "cell_type": "code",
   "execution_count": 15,
   "id": "ec52c234",
   "metadata": {},
   "outputs": [],
   "source": [
    "# Using logging messages is generally considered better than using print() for several reasons:\n",
    "\n",
    "# a) Control Over Message Levels: Logging allows you to categorize messages based on their severity levels (DEBUG, INFO, \n",
    "#     WARNING, ERROR, CRITICAL). This helps in distinguishing between different types of messages and allows you to handle\n",
    "#     them differently.\n",
    "\n",
    "# b) Flexibility: With logging, you can easily change the output destination (console, file, network, etc.) and format of the \n",
    "#     messages without modifying your code. This flexibility is not available with print() statements.\n",
    "\n",
    "# c) Filtering and Suppression: Logging provides mechanisms to filter and suppress messages based on their severity levels\n",
    "#     or other criteria. This allows you to control the amount of information displayed based on the context or environment.\n",
    "\n",
    "# d) Timestamps and Contextual Information: Logging automatically adds timestamps and contextual information (such as the module,\n",
    "#     function, or line number where the log message originated) to each message. This information can be invaluable for \n",
    "#     debugging and troubleshooting.\n",
    "\n",
    "# e)Integration with Libraries: Many libraries and frameworks use logging for their own output. Using logging consistently\n",
    "#     throughout your codebase allows for better integration and management of logs from different sources.\n",
    "\n",
    "# f) Production Readiness: Logging is more suitable for production environments where you need to manage and monitor \n",
    "#     application logs efficiently. It provides features like log rotation, log file size management, and log analysis \n",
    "#     tools integration."
   ]
  },
  {
   "cell_type": "markdown",
   "id": "0e6fd330",
   "metadata": {},
   "source": [
    "# 9."
   ]
  },
  {
   "cell_type": "code",
   "execution_count": 16,
   "id": "378a0743",
   "metadata": {},
   "outputs": [],
   "source": [
    "# The Step Over, Step In, and Step Out buttons are commonly found in debuggers and are used to control the execution flow \n",
    "# of a program during debugging. \n",
    "\n",
    "# Here are the differences between them:\n",
    "\n",
    "# a) Step Over (or Next Line):\n",
    "\n",
    "# i) When we click Step Over, the debugger executes the current line of code and moves to the next line in the program.\n",
    "# ii) If the current line contains a function call, the entire function is executed without stepping into it. The debugger simply\n",
    "#   steps over the function call and moves to the next line after the function call.\n",
    "# iii) This is useful for quickly moving through the code and skipping over function calls that we don't want to step into \n",
    "#   or debug line by line.\n",
    "\n",
    "# b) Step In (or Step Into):\n",
    "\n",
    "# i) When we click Step In, the debugger steps into the next line of code, whether it's a function call or another line of code.\n",
    "# ii) If the next line is a function call, the debugger enters the function and starts debugging from the first line of \n",
    "#  that function.\n",
    "# This is useful when we want to debug through each line of code, including function calls, and examine the behavior inside\n",
    "#  functions.\n",
    "\n",
    "# c) Step Out:\n",
    "\n",
    "# i) When we click Step Out, the debugger executes the rest of the current function and returns control to the line where\n",
    "#  the function was called.\n",
    "# ii) If we are currently inside a nested function and want to return to the caller function without stepping through each line,\n",
    "#  Step Out is helpful.\n",
    "# iii) It's essentially a way to quickly return from a deeper level of function call hierarchy to the higher-level function."
   ]
  },
  {
   "cell_type": "markdown",
   "id": "2127a132",
   "metadata": {},
   "source": [
    "# 10."
   ]
  },
  {
   "cell_type": "code",
   "execution_count": 17,
   "id": "993f745a",
   "metadata": {},
   "outputs": [],
   "source": [
    "# When we click \"Continue\" in a debugger, it instructs the debugger to continue running the program without stepping through each line of code. The debugger will stop again based on certain conditions or events, such as:\n",
    "\n",
    "# a) Breakpoints:\n",
    "# If there are breakpoints set in the code, the debugger will stop when the execution reaches a breakpoint. Breakpoints are \n",
    "#  specific lines of code where we want the debugger to pause so that you can inspect variables, check the program state, \n",
    "#  or debug specific areas of code.\n",
    "\n",
    "# b) Exception or Error:\n",
    "# If an exception or error occurs during program execution and it's not handled by the code (such as an unhandled exception),\n",
    "#  the debugger will stop at the point where the exception occurred. This allows you to investigate the cause of the exception \n",
    "#  and the program state at that moment.\n",
    "\n",
    "# c) End of Program:\n",
    "# The debugger will also stop when the program execution reaches the end of the code, which indicates that the program has \n",
    "#  finished running.\n",
    "\n",
    "# d)User-Defined Conditions:\n",
    "# In some debuggers, you can set conditions for when the debugger should stop. For example, we might set a condition to stop\n",
    "#  when a variable reaches a certain value or when a specific line of code is executed."
   ]
  },
  {
   "cell_type": "markdown",
   "id": "d446957e",
   "metadata": {},
   "source": [
    "# 11."
   ]
  },
  {
   "cell_type": "code",
   "execution_count": null,
   "id": "bbca55f4",
   "metadata": {},
   "outputs": [],
   "source": [
    "# A breakpoint is a designated point in a program's source code where the debugger pauses program execution, allowing developers \n",
    "#  to inspect the program's state, variables, and flow at that specific moment. Breakpoints are crucial for debugging and\n",
    "#  troubleshooting code efficiently. "
   ]
  }
 ],
 "metadata": {
  "kernelspec": {
   "display_name": "Python 3 (ipykernel)",
   "language": "python",
   "name": "python3"
  },
  "language_info": {
   "codemirror_mode": {
    "name": "ipython",
    "version": 3
   },
   "file_extension": ".py",
   "mimetype": "text/x-python",
   "name": "python",
   "nbconvert_exporter": "python",
   "pygments_lexer": "ipython3",
   "version": "3.11.5"
  }
 },
 "nbformat": 4,
 "nbformat_minor": 5
}
